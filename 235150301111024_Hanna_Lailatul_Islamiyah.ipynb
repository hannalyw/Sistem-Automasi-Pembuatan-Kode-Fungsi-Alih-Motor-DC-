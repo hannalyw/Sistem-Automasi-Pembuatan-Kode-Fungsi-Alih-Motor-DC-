{
  "nbformat": 4,
  "nbformat_minor": 0,
  "metadata": {
    "colab": {
      "provenance": []
    },
    "kernelspec": {
      "name": "python3",
      "display_name": "Python 3"
    },
    "language_info": {
      "name": "python"
    }
  },
  "cells": [
    {
      "cell_type": "markdown",
      "source": [
        "## Model Matematika Motor DC (Persamaan Listrik dan Mekanik)"
      ],
      "metadata": {
        "id": "j9QUu85q5uHT"
      }
    },
    {
      "cell_type": "code",
      "source": [
        "import sympy as sp\n",
        "\n",
        "# Define symbols\n",
        "L, R, V, K, theta, I, doti, J, b, s, t, omega, omegadot = sp.symbols('L, R, V, K, \\\\theta, I, \\\\dot{i}, J, b, s, t, omega,\\\\dot{\\\\omega}')\n",
        "\n",
        "dIdt = (sp.Function('I')(t).diff(t))\n",
        "dthetadt = (sp.Function('\\\\theta')(t).diff(t))\n",
        "#display(dIdt)\n",
        "\n",
        "#eq1 = L *dIdt + R * I - V + K * dthetadt  # Electrical equation\n",
        "#eq2 = J * dthetadt**2 + b * dthetadt + K * I  # Mechanical equation\n",
        "\n",
        "eq1 = L *doti + R * I - V + K * omega  # Electrical equation\n",
        "eq2 = J * omegadot + b * omega + K * I  # Mechanical equation\n",
        "\n",
        "print(\"\\nTransformasi Laplace Persamaan Listrik:\")\n",
        "display(eq1)\n",
        "print(\"\\nTransformasi Laplace Persamaan Mekanik:\")\n",
        "display(eq2)"
      ],
      "metadata": {
        "colab": {
          "base_uri": "https://localhost:8080/",
          "height": 129
        },
        "id": "f9G4pV9g31L1",
        "outputId": "5b8deff3-11b1-4de3-97ff-fbc182ea4bb9"
      },
      "execution_count": 7,
      "outputs": [
        {
          "output_type": "stream",
          "name": "stdout",
          "text": [
            "\n",
            "Transformasi Laplace Persamaan Listrik:\n"
          ]
        },
        {
          "output_type": "display_data",
          "data": {
            "text/plain": [
              "I*R + K*omega + L*\\dot{i} - V"
            ],
            "text/latex": "$\\displaystyle I R + K \\omega + L \\dot{i} - V$"
          },
          "metadata": {}
        },
        {
          "output_type": "stream",
          "name": "stdout",
          "text": [
            "\n",
            "Transformasi Laplace Persamaan Mekanik:\n"
          ]
        },
        {
          "output_type": "display_data",
          "data": {
            "text/plain": [
              "I*K + J*\\dot{\\omega} + b*omega"
            ],
            "text/latex": "$\\displaystyle I K + J \\dot{\\omega} + b \\omega$"
          },
          "metadata": {}
        }
      ]
    },
    {
      "cell_type": "markdown",
      "source": [
        "## Transformasi Laplace pada Motor DC"
      ],
      "metadata": {
        "id": "69Q6FPfI5233"
      }
    },
    {
      "cell_type": "code",
      "source": [
        "laplace_expr = sp.laplace_transform(eq1, t, s, noconds=True)\n",
        "laplace_expr2 = sp.laplace_transform(eq2, t, s, noconds=True)\n",
        "display(laplace_expr.simplify())\n",
        "display(laplace_expr2.simplify())"
      ],
      "metadata": {
        "colab": {
          "base_uri": "https://localhost:8080/",
          "height": 90
        },
        "id": "kKIKO_Bh4VmL",
        "outputId": "79c7a414-ed16-4465-b15b-7ddd7acbcfaf"
      },
      "execution_count": 8,
      "outputs": [
        {
          "output_type": "display_data",
          "data": {
            "text/plain": [
              "(I*R + K*omega + L*\\dot{i} - V)/s"
            ],
            "text/latex": "$\\displaystyle \\frac{I R + K \\omega + L \\dot{i} - V}{s}$"
          },
          "metadata": {}
        },
        {
          "output_type": "display_data",
          "data": {
            "text/plain": [
              "(I*K + J*\\dot{\\omega} + b*omega)/s"
            ],
            "text/latex": "$\\displaystyle \\frac{I K + J \\dot{\\omega} + b \\omega}{s}$"
          },
          "metadata": {}
        }
      ]
    },
    {
      "cell_type": "markdown",
      "source": [
        "## Fungsi Alih Hubungan antara  kecepatan sudut ($\\omega$) terhadap tegangan (V)"
      ],
      "metadata": {
        "id": "DJq02tsn57Rr"
      }
    },
    {
      "cell_type": "code",
      "source": [
        "#display(dIdt)\n",
        "#display(dthetadt)\n",
        "sol = sp.solve((eq1,eq2),(doti,omegadot),Dict=True)\n",
        "#print(sol)\n",
        "display(sol[doti])\n",
        "display(sol[omegadot])"
      ],
      "metadata": {
        "colab": {
          "base_uri": "https://localhost:8080/",
          "height": 87
        },
        "id": "LGlW8iA348iR",
        "outputId": "9e5728f5-e975-4a52-dd2c-c8bd24017703"
      },
      "execution_count": 9,
      "outputs": [
        {
          "output_type": "display_data",
          "data": {
            "text/plain": [
              "(-I*R - K*omega + V)/L"
            ],
            "text/latex": "$\\displaystyle \\frac{- I R - K \\omega + V}{L}$"
          },
          "metadata": {}
        },
        {
          "output_type": "display_data",
          "data": {
            "text/plain": [
              "(-I*K - b*omega)/J"
            ],
            "text/latex": "$\\displaystyle \\frac{- I K - b \\omega}{J}$"
          },
          "metadata": {}
        }
      ]
    }
  ]
}